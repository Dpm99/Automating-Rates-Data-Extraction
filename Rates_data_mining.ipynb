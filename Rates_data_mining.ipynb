{
 "cells": [
  {
   "cell_type": "code",
   "execution_count": 1,
   "metadata": {},
   "outputs": [],
   "source": [
    "from urllib.request import urlopen\n",
    "from bs4 import BeautifulSoup\n",
    "import pandas as pd"
   ]
  },
  {
   "cell_type": "code",
   "execution_count": 2,
   "metadata": {},
   "outputs": [],
   "source": [
    "def rates(url, currency):\n",
    "    try:\n",
    "        html = urlopen(url)\n",
    "    except:\n",
    "        print('Invalid url, insert new one:')\n",
    "        html = urlopen(str(input()))\n",
    "    soup = BeautifulSoup(html, 'lxml')\n",
    "    table = soup.find('table', {'class':'tablestats', 'id':'dataTableID'})\n",
    "    rows = soup.find_all('tr')\n",
    "\n",
    "    table_list = []\n",
    "\n",
    "    # For every row in the table, find each cell element and add it to the list\n",
    "    for row in rows:\n",
    "        row_td = row.find_all('td')\n",
    "        row_cells = str(row_td)\n",
    "        row_cleantext = BeautifulSoup(row_cells, \"lxml\").get_text()  # extract the text without HTML tags\n",
    "        table_list.append(row_cleantext)  # Add the clean table row to the list\n",
    "\n",
    "    #table_list_clean = table_list[30:]\n",
    "    if currency=='pound' or currency=='real':\n",
    "        table_list_clean = table_list[31:]\n",
    "    elif currency=='dollar':\n",
    "        table_list_clean = table_list[30:]\n",
    "        \n",
    "    df = pd.DataFrame(table_list_clean)\n",
    "    df = df[0].str.split(',', expand=True)\n",
    "    df = df.drop(2,axis=1)\n",
    "    df[0] = df[0].str.strip('[')\n",
    "    df[0] = df[0].str.strip(']')\n",
    "    try:\n",
    "        df[0].iloc[0] = df[0].iloc[0].strip('↓')\n",
    "    except:\n",
    "        df[0].iloc[0] = df[0].iloc[0].strip('↑')\n",
    "        \n",
    "    df.columns = df.iloc[0]\n",
    "    df = df.drop(0, axis=0)\n",
    "    df=df.sort_values(by=[df.columns[0]])\n",
    "    \n",
    "    return df"
   ]
  },
  {
   "cell_type": "code",
   "execution_count": 3,
   "metadata": {},
   "outputs": [],
   "source": [
    "def main(_):\n",
    "    \n",
    "    print('Insert currency (pound, dollar or real):')\n",
    "    currency = str(input())\n",
    "    print('Insert url:')\n",
    "    dollar_rates = rates(str(input()), currency)\n",
    "    print('Write current file name, including extension (write None if there is no current file):')\n",
    "    file_name = str(input())\n",
    "    \n",
    "    if file_name=='None':\n",
    "        print('Write destination file name:')\n",
    "        dest_file = str(input())\n",
    "        return dollar_rates.to_csv(dest_file+'.csv', index=False)\n",
    "    else:\n",
    "        try:\n",
    "            my_file = pd.read_csv(file_name)\n",
    "        except:\n",
    "            print('File not found. Please write the file name again, including extension:')\n",
    "            file_name = str(input())\n",
    "            my_file = pd.read_csv(file_name)\n",
    "        if my_file.equals(dollar_rates):\n",
    "            return print('No new data found. Exiting.')\n",
    "        else:\n",
    "            print('New data found. Saving changes.')\n",
    "            return dollar_rates.to_csv('/home/diogo_mota/Desktop/dollar_rates.csv', index=False)"
   ]
  },
  {
   "cell_type": "code",
   "execution_count": 5,
   "metadata": {},
   "outputs": [
    {
     "name": "stdout",
     "output_type": "stream",
     "text": [
      "Write current file name, including extension (write None if there is no current file):\n",
      "None\n",
      "Insert currency (pound, dollar or real):\n",
      "dollar\n",
      "Insert url:\n",
      "https://sdw.ecb.europa.eu/quickview.do?SERIES_KEY=120.EXR.D.USD.EUR.SP00.A&\n",
      "Write destination file name:\n",
      "dolalr_rate\n",
      "Done.\n"
     ]
    }
   ],
   "source": [
    "main()\n",
    "print('Done.')"
   ]
  },
  {
   "cell_type": "code",
   "execution_count": null,
   "metadata": {},
   "outputs": [],
   "source": []
  }
 ],
 "metadata": {
  "kernelspec": {
   "display_name": "Python 3",
   "language": "python",
   "name": "python3"
  },
  "language_info": {
   "codemirror_mode": {
    "name": "ipython",
    "version": 3
   },
   "file_extension": ".py",
   "mimetype": "text/x-python",
   "name": "python",
   "nbconvert_exporter": "python",
   "pygments_lexer": "ipython3",
   "version": "3.8.5"
  }
 },
 "nbformat": 4,
 "nbformat_minor": 4
}
